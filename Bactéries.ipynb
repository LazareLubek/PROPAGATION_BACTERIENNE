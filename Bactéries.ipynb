{
 "cells": [
  {
   "cell_type": "markdown",
   "metadata": {},
   "source": [
    "# Modélisation du système bactérie/anticorps"
   ]
  },
  {
   "cell_type": "markdown",
   "metadata": {},
   "source": [
    "Nadir Ait Kheddache, Idriss Alaoui Souliman, Fabien Benthami, Alma Draeger, Alexandre Janin"
   ]
  },
  {
   "cell_type": "code",
   "execution_count": 439,
   "metadata": {},
   "outputs": [],
   "source": [
    "#Imports\n",
    "import numpy as np\n",
    "import ipywidgets as widgets\n",
    "import matplotlib\n",
    "import matplotlib.pyplot as plt\n",
    "from matplotlib.colors import ListedColormap\n",
    "import matplotlib.animation\n",
    "import IPython\n",
    "from IPython.display import HTML"
   ]
  },
  {
   "cell_type": "code",
   "execution_count": 422,
   "metadata": {},
   "outputs": [],
   "source": [
    "#Variables globales\n",
    "\n",
    "#Infini\n",
    "infini = False\n",
    "\n",
    "#True: les gb apparaissent toujours a coté d'une bactérie\n",
    "gb_apparait_sur_bacterie = True\n",
    "\n",
    "#probabilité d'avoir chaque type de cellule (0: vide, 1: bactérie, 2: globule blanc, 3: nutriments)\n",
    "#la somme des probabilités doit être égale à 1\n",
    "proba = [0.7, 0.1, 0, 0.2]\n",
    "\n",
    "#probabilité qu'une cellule vide se transforme en nutriments\n",
    "proba_apparition_nutriments = 0.04\n",
    "\n",
    "#nombre de GB nécessaires pour tuer une bactérie\n",
    "nb_gb_necessaires = 2\n",
    "\n",
    "#nombre de gb qui apparait par bacterie à chaque étape\n",
    "gb_par_bact = 0.1\n",
    "\n",
    "#temps de survie des bactéries sans nutriments\n",
    "t_survie_b = 10\n",
    "\n",
    "#temps de survie des gb\n",
    "t_survie_gb = 8\n",
    "\n",
    "#temps de survie des nutriments\n",
    "t_survie_n = 2\n",
    "\n",
    "#Symbole qui représente chaque valeur de cellule\n",
    "cara = ['-', 'B', 'G', 'n']"
   ]
  },
  {
   "cell_type": "code",
   "execution_count": 423,
   "metadata": {},
   "outputs": [],
   "source": [
    "def matrice(l, h, vide = False):\n",
    "    \"\"\" int^2 -> int[][]\n",
    "    largeur > 0, hauteur > 0\n",
    "    Renvoie une matrice de 0 de l colonnes et h lignes\"\"\"\n",
    "    \n",
    "    if(vide):  \n",
    "        return [[0 for x in range(l)] for y in range(h)]\n",
    "    else:\n",
    "        return [[aleatoire() for x in range(l)] for y in range(h)]"
   ]
  },
  {
   "cell_type": "code",
   "execution_count": 424,
   "metadata": {},
   "outputs": [],
   "source": [
    "def aleatoire():\n",
    "    \"\"\"float -> int\n",
    "    Renvoie le type de cellule (0, 1, 2, 3) selon le nombre aléatoire tiré\"\"\"\n",
    "    \n",
    "    alea = np.random.rand()\n",
    "    \n",
    "    for i in range(len(proba)):\n",
    "        p = proba[i]\n",
    "        if alea <= p:\n",
    "            return i\n",
    "        else:\n",
    "            alea -= p\n",
    "            \n",
    "    return 0"
   ]
  },
  {
   "cell_type": "code",
   "execution_count": 425,
   "metadata": {},
   "outputs": [],
   "source": [
    "def printmatrice(M, T):\n",
    "    \"\"\"int[][] -> NoneType\n",
    "    Affiche la matrice M\"\"\"\n",
    "    IPython.display.clear_output()\n",
    "    for y in range(len(M)):\n",
    "        s = \"\"\n",
    "        for cell in M[y]:\n",
    "            s += cara[cell] + ' '\n",
    "            \n",
    "        s += '\\t'\n",
    "        for t in T[y]:\n",
    "            s += str(t) + ' '\n",
    "        print(s + \"\\n\")\n",
    "    \n",
    "    compte = compteur(M)\n",
    "    \n",
    "    print(\"Bactéries: \", compte[1], \"\\nGlobules blancs: \", compte[2])"
   ]
  },
  {
   "cell_type": "code",
   "execution_count": 426,
   "metadata": {},
   "outputs": [],
   "source": [
    "def voisinage(M, x, y):\n",
    "    \"\"\"int[][] * int * int * bool-> int[]\n",
    "    Renvoie la liste des voisins de la case (x, y).\n",
    "    Si infini est False, on ne prend pas les voisins hors de la matrice\"\"\"\n",
    "    v = [0, 0, 0, 0]\n",
    "    \n",
    "    ymax = len(M)\n",
    "    xmax = len(M[0])\n",
    "    \n",
    "    for i in [x - 1, x, x + 1]:\n",
    "        if (0 <= i and i < xmax):\n",
    "            for j in [y - 1, y, y + 1]:\n",
    "                if (0 <= j and j < ymax):\n",
    "                        if (i, j) != (x, y): #Si i, j n'est pas la case centrale\n",
    "                            v[M[j][i]] += 1\n",
    "    return v"
   ]
  },
  {
   "cell_type": "code",
   "execution_count": 427,
   "metadata": {},
   "outputs": [],
   "source": [
    "def next_step_matrice(M, temps):\n",
    "    \"\"\"int[][] -> int [][]\n",
    "    Renvoie la matrice à l'étape suivante.\"\"\"\n",
    "    \n",
    "    nv_M = list(M)\n",
    "    \n",
    "    compte = compteur(nv_M)\n",
    "    \n",
    "    for y in range(len(M)):\n",
    "        for x in range(len(M[y])):\n",
    "            nv_M[y][x] = next_step_cellule(x, y, M, temps)\n",
    "\n",
    "    reaction_gb(nv_M, int(gb_par_bact * compte[1]) + 1)\n",
    "\n",
    "    return nv_M"
   ]
  },
  {
   "cell_type": "code",
   "execution_count": 428,
   "metadata": {},
   "outputs": [],
   "source": [
    "def next_step_cellule(x, y, matrice, t):\n",
    "    \"\"\"int * int[] -> int\n",
    "    Hypothèse: c = 0 ou 1 ou 2 ou 3\n",
    "    Renvoie l'état suivant d'une cellule c en fonction de son état actuel et de ses voisins.\"\"\"\n",
    "    \n",
    "    c = matrice[y][x]\n",
    "    \n",
    "    voisins = voisinage(matrice, x, y)\n",
    "    \n",
    "    vides = voisins[0]\n",
    "    bacteries = voisins[1]\n",
    "    globules = voisins[2]\n",
    "    nutriments = voisins[3]\n",
    "    \n",
    "    if (c == 0): #La cellule est vide\n",
    "        if (np.random.rand() <= proba_apparition_nutriments): #Un nutriment apparait\n",
    "            return 3\n",
    "        else: #La cellule reste vide\n",
    "            return 0\n",
    "        \n",
    "    if (c == 1): #Bactérie\n",
    "        if (nutriments >= 1):\n",
    "            t[y][x] = 0\n",
    "        else:\n",
    "            t[y][x] += 1\n",
    "            if(t[y][x] >= t_survie_b):\n",
    "                t[y][x] = 0\n",
    "                return 0\n",
    "        if (globules >= nb_gb_necessaires): #Les GB tuent la bactérie\n",
    "            return 0\n",
    "        else: #La bactérie survit\n",
    "            return 1\n",
    "        \n",
    "    if (c == 2): #Globule blanc\n",
    "        t[y][x] += 1\n",
    "        if(t[y][x] >= t_survie_gb):\n",
    "            t[y][x] = 0\n",
    "            return 0\n",
    "        \n",
    "        return 2\n",
    "        \n",
    "    if (c == 3): #Nutriment\n",
    "        t[y][x] += 1\n",
    "        if(t[y][x] >= t_survie_n):\n",
    "            t[y][x] = 0\n",
    "            return 0\n",
    "            \n",
    "        if (bacteries > 0 and globules == 0): #La bactérie voisine se multiplie\n",
    "            return 1\n",
    "        else: #La cellule reste un nutriment\n",
    "            return 3\n",
    "        \n",
    "    print(\"Erreur: c invalide:\", c)"
   ]
  },
  {
   "cell_type": "code",
   "execution_count": 429,
   "metadata": {},
   "outputs": [],
   "source": [
    "def reaction_gb(mat, nb_gb):\n",
    "    h = len(mat)\n",
    "    l = len(mat[0])\n",
    "    \n",
    "    for i in range(nb_gb):\n",
    "        essais = 0\n",
    "        \n",
    "        while(essais < 100):\n",
    "            essais += 1\n",
    "            x = np.random.randint(0, l)\n",
    "            y = np.random.randint(0, h)\n",
    "            if((mat[y][x] == 0 or mat[y][x] == 3) and (not gb_apparait_sur_bacterie or voisinage(mat, x, y)[1] > 0)):\n",
    "                mat[y][x] = 2\n",
    "                break"
   ]
  },
  {
   "cell_type": "code",
   "execution_count": 430,
   "metadata": {},
   "outputs": [],
   "source": [
    "def display_next_step(b):\n",
    "    global mat\n",
    "    global t\n",
    "    global button\n",
    "    global reset_button\n",
    "    \n",
    "    mat = next_step_matrice(mat, t)\n",
    "    printmatrice(mat, t)\n",
    "    \n",
    "    display(reset_button)\n",
    "    display(button)"
   ]
  },
  {
   "cell_type": "code",
   "execution_count": 431,
   "metadata": {},
   "outputs": [],
   "source": [
    "def reset(b):\n",
    "    global mat\n",
    "    global t\n",
    "    mat = matrice(30, 8)\n",
    "    t = matrice(30, 8, True)\n",
    "    printmatrice(mat, t)\n",
    "    display(reset_button)\n",
    "    display(button)"
   ]
  },
  {
   "cell_type": "code",
   "execution_count": 432,
   "metadata": {},
   "outputs": [
    {
     "data": {
      "application/vnd.jupyter.widget-view+json": {
       "model_id": "c987d0dfeafa46399c1a26f03474924b",
       "version_major": 2,
       "version_minor": 0
      },
      "text/html": [
       "<p>Failed to display Jupyter Widget of type <code>Button</code>.</p>\n",
       "<p>\n",
       "  If you're reading this message in the Jupyter Notebook or JupyterLab Notebook, it may mean\n",
       "  that the widgets JavaScript is still loading. If this message persists, it\n",
       "  likely means that the widgets JavaScript library is either not installed or\n",
       "  not enabled. See the <a href=\"https://ipywidgets.readthedocs.io/en/stable/user_install.html\">Jupyter\n",
       "  Widgets Documentation</a> for setup instructions.\n",
       "</p>\n",
       "<p>\n",
       "  If you're reading this message in another frontend (for example, a static\n",
       "  rendering on GitHub or <a href=\"https://nbviewer.jupyter.org/\">NBViewer</a>),\n",
       "  it may mean that your frontend doesn't currently support widgets.\n",
       "</p>\n"
      ],
      "text/plain": [
       "Button(button_style='info', description='Reset', icon='check', style=ButtonStyle(), tooltip='Click me!')"
      ]
     },
     "metadata": {},
     "output_type": "display_data"
    },
    {
     "data": {
      "application/vnd.jupyter.widget-view+json": {
       "model_id": "f2244297ff59469aa40628dbee115fe3",
       "version_major": 2,
       "version_minor": 0
      },
      "text/html": [
       "<p>Failed to display Jupyter Widget of type <code>Button</code>.</p>\n",
       "<p>\n",
       "  If you're reading this message in the Jupyter Notebook or JupyterLab Notebook, it may mean\n",
       "  that the widgets JavaScript is still loading. If this message persists, it\n",
       "  likely means that the widgets JavaScript library is either not installed or\n",
       "  not enabled. See the <a href=\"https://ipywidgets.readthedocs.io/en/stable/user_install.html\">Jupyter\n",
       "  Widgets Documentation</a> for setup instructions.\n",
       "</p>\n",
       "<p>\n",
       "  If you're reading this message in another frontend (for example, a static\n",
       "  rendering on GitHub or <a href=\"https://nbviewer.jupyter.org/\">NBViewer</a>),\n",
       "  it may mean that your frontend doesn't currently support widgets.\n",
       "</p>\n"
      ],
      "text/plain": [
       "Button(button_style='info', description='Next Step', icon='check', style=ButtonStyle(), tooltip='Click me!')"
      ]
     },
     "metadata": {},
     "output_type": "display_data"
    }
   ],
   "source": [
    "reset_button = widgets.Button(\n",
    "    description='Reset',\n",
    "    disabled=False,\n",
    "    button_style='info', # 'success', 'info', 'warning', 'danger' or ''\n",
    "    tooltip='Click me!',\n",
    "    icon='check'\n",
    ")\n",
    "\n",
    "button = widgets.Button(\n",
    "    description='Next Step',\n",
    "    disabled=False,\n",
    "    button_style='info', # 'success', 'info', 'warning', 'danger' or ''\n",
    "    tooltip='Click me!',\n",
    "    icon='check'\n",
    ")\n",
    "\n",
    "button.on_click(display_next_step)\n",
    "reset_button.on_click(reset)\n",
    "\n",
    "display(reset_button)\n",
    "display(button)"
   ]
  },
  {
   "cell_type": "code",
   "execution_count": 433,
   "metadata": {},
   "outputs": [],
   "source": [
    "def compteur(mat):\n",
    "    \"\"\"int[][] -> (int, int)\n",
    "    Renvoie le nombre de GB et bactéries dans une matrice\"\"\"\n",
    "    compte = [0, 0, 0, 0]\n",
    "    for i in mat:\n",
    "        for j in i:\n",
    "            compte[j] += 1\n",
    "    return compte"
   ]
  },
  {
   "cell_type": "code",
   "execution_count": 434,
   "metadata": {},
   "outputs": [],
   "source": [
    "def simulate_compte(l, h, steps):\n",
    "    \"\"\"int * bool -> (int, int, int)\n",
    "    Renvoie le nombre de GB et bactéries apres steps étapes.\"\"\"\n",
    "    \n",
    "    mat = matrice(l, h)\n",
    "    \n",
    "    temps = matrice(l, h, True)\n",
    "    \n",
    "    resultsG = []\n",
    "    resultsB = []\n",
    "    resultsN = []\n",
    "    \n",
    "    for i in range(steps):\n",
    "        compte = compteur(mat)\n",
    "        resultsG.append(compte[2])\n",
    "        resultsB.append(compte[1])\n",
    "        resultsN.append(compte[3])\n",
    "        mat = next_step_matrice(mat, temps)\n",
    "        \n",
    "        if(compte[1] == 0):\n",
    "            print(\"Victoire du système immunitaire en \" + str(i) + \" étapes\")\n",
    "            break\n",
    "        \n",
    "    \n",
    "    return resultsG, resultsB, resultsN"
   ]
  },
  {
   "cell_type": "code",
   "execution_count": 440,
   "metadata": {},
   "outputs": [
    {
     "name": "stdout",
     "output_type": "stream",
     "text": [
      "Victoire du système immunitaire en 62 étapes\n"
     ]
    },
    {
     "data": {
      "image/png": "[encoded data removed]",
      "text/plain": [
       "<matplotlib.figure.Figure at 0x14bd39356a0>"
      ]
     },
     "metadata": {},
     "output_type": "display_data"
    }
   ],
   "source": [
    "resultsG, resultsB, resultsN = simulate_compte(30,30,150)\n",
    "\n",
    "x = list(range(len(resultsG)))\n",
    "\n",
    "plt.plot(x, resultsG, c = 'blue', label = \"Globules blancs\")\n",
    "plt.plot(x, resultsB, c = 'red', label = \"Bactéries\")\n",
    "plt.plot(x, resultsN, c = 'green', label = \"Nutriments\")\n",
    "\n",
    "plt.ylabel(\"nombre de cellules\")\n",
    "plt.xlabel(\"étapes\")\n",
    "\n",
    "plt.legend(loc = \"best\")\n",
    "\n",
    "plt.title(\"proba initiales: {}, proba nutriment: {},\\nnb_gb_necessaires: {}, gb_par_bact: {},\\nt_survie_b: {}, t_survie_gb: {}, t_survie_n: {}\\n\".format(proba, proba_apparition_nutriments, nb_gb_necessaires, gb_par_bact, t_survie_b, t_survie_gb, t_survie_n),\n",
    "         loc = 'left')\n",
    "\n",
    "plt.show()"
   ]
  },
  {
   "cell_type": "code",
   "execution_count": null,
   "metadata": {},
   "outputs": [],
   "source": []
  },
  {
   "cell_type": "code",
   "execution_count": 451,
   "metadata": {},
   "outputs": [],
   "source": [
    "def animation(l, h, nbsteps):\n",
    "    cmap = ListedColormap(['white', 'lightpink', 'lightblue', 'lightgrey'])\n",
    "    \n",
    "    mat = matrice(l, h)\n",
    "    t = matrice(l, h, True)\n",
    "    \n",
    "    fig = plt.figure()\n",
    "    \n",
    "    im = plt.imshow(mat, animated = True)\n",
    "    \n",
    "    def updatefig(i):\n",
    "        mat = next_step_matrice(mat, t)\n",
    "        im.set_array(mat)\n",
    "        return im\n",
    "    \n",
    "    ani = matplotlib.animation.FuncAnimation(fig, updatefig, frames = nbsteps - 1, interval = 100, blit = True)\n",
    "    HTML(ani.to_html5_video())\n",
    "    \n",
    "    #for i in range(nbsteps):\n",
    "        #mat = next_step_matrice(mat, t)\n",
    "        #print(plt.matshow(mat, cmap = cmap))\n",
    "        \n",
    "    return mat"
   ]
  },
  {
   "cell_type": "code",
   "execution_count": 452,
   "metadata": {},
   "outputs": [
    {
     "name": "stderr",
     "output_type": "stream",
     "text": [
      "Traceback (most recent call last):\n",
      "  File \"C:\\Users\\killi\\Anaconda3\\lib\\site-packages\\matplotlib\\cbook\\__init__.py\", line 388, in process\n",
      "    proxy(*args, **kwargs)\n",
      "  File \"C:\\Users\\killi\\Anaconda3\\lib\\site-packages\\matplotlib\\cbook\\__init__.py\", line 228, in __call__\n",
      "    return mtd(*args, **kwargs)\n",
      "  File \"C:\\Users\\killi\\Anaconda3\\lib\\site-packages\\matplotlib\\animation.py\", line 1081, in _start\n",
      "    self._init_draw()\n",
      "  File \"C:\\Users\\killi\\Anaconda3\\lib\\site-packages\\matplotlib\\animation.py\", line 1792, in _init_draw\n",
      "    self._draw_frame(next(self.new_frame_seq()))\n",
      "  File \"C:\\Users\\killi\\Anaconda3\\lib\\site-packages\\matplotlib\\animation.py\", line 1814, in _draw_frame\n",
      "    self._drawn_artists = self._func(framedata, *self._args)\n",
      "  File \"<ipython-input-451-5d3f809cb1c2>\", line 12, in updatefig\n",
      "    mat = next_step_matrice(mat, t)\n",
      "UnboundLocalError: local variable 'mat' referenced before assignment\n"
     ]
    },
    {
     "ename": "KeyError",
     "evalue": "'ffmpeg'",
     "output_type": "error",
     "traceback": [
      "\u001b[1;31m---------------------------------------------------------------------------\u001b[0m",
      "\u001b[1;31mKeyError\u001b[0m                                  Traceback (most recent call last)",
      "\u001b[1;32m<ipython-input-452-37a10cf2cecc>\u001b[0m in \u001b[0;36m<module>\u001b[1;34m()\u001b[0m\n\u001b[1;32m----> 1\u001b[1;33m \u001b[0mmat\u001b[0m \u001b[1;33m=\u001b[0m \u001b[0manimation\u001b[0m\u001b[1;33m(\u001b[0m\u001b[1;36m20\u001b[0m\u001b[1;33m,\u001b[0m \u001b[1;36m20\u001b[0m\u001b[1;33m,\u001b[0m \u001b[1;36m5\u001b[0m\u001b[1;33m)\u001b[0m\u001b[1;33m\u001b[0m\u001b[0m\n\u001b[0m",
      "\u001b[1;32m<ipython-input-451-5d3f809cb1c2>\u001b[0m in \u001b[0;36manimation\u001b[1;34m(l, h, nbsteps)\u001b[0m\n\u001b[0;32m     15\u001b[0m \u001b[1;33m\u001b[0m\u001b[0m\n\u001b[0;32m     16\u001b[0m     \u001b[0mani\u001b[0m \u001b[1;33m=\u001b[0m \u001b[0mmatplotlib\u001b[0m\u001b[1;33m.\u001b[0m\u001b[0manimation\u001b[0m\u001b[1;33m.\u001b[0m\u001b[0mFuncAnimation\u001b[0m\u001b[1;33m(\u001b[0m\u001b[0mfig\u001b[0m\u001b[1;33m,\u001b[0m \u001b[0mupdatefig\u001b[0m\u001b[1;33m,\u001b[0m \u001b[0mframes\u001b[0m \u001b[1;33m=\u001b[0m \u001b[0mnbsteps\u001b[0m \u001b[1;33m-\u001b[0m \u001b[1;36m1\u001b[0m\u001b[1;33m,\u001b[0m \u001b[0minterval\u001b[0m \u001b[1;33m=\u001b[0m \u001b[1;36m100\u001b[0m\u001b[1;33m,\u001b[0m \u001b[0mblit\u001b[0m \u001b[1;33m=\u001b[0m \u001b[1;32mTrue\u001b[0m\u001b[1;33m)\u001b[0m\u001b[1;33m\u001b[0m\u001b[0m\n\u001b[1;32m---> 17\u001b[1;33m     \u001b[0mHTML\u001b[0m\u001b[1;33m(\u001b[0m\u001b[0mani\u001b[0m\u001b[1;33m.\u001b[0m\u001b[0mto_html5_video\u001b[0m\u001b[1;33m(\u001b[0m\u001b[1;33m)\u001b[0m\u001b[1;33m)\u001b[0m\u001b[1;33m\u001b[0m\u001b[0m\n\u001b[0m\u001b[0;32m     18\u001b[0m \u001b[1;33m\u001b[0m\u001b[0m\n\u001b[0;32m     19\u001b[0m     \u001b[1;31m#for i in range(nbsteps):\u001b[0m\u001b[1;33m\u001b[0m\u001b[1;33m\u001b[0m\u001b[0m\n",
      "\u001b[1;32m~\\Anaconda3\\lib\\site-packages\\matplotlib\\animation.py\u001b[0m in \u001b[0;36mto_html5_video\u001b[1;34m(self, embed_limit)\u001b[0m\n\u001b[0;32m   1407\u001b[0m                 \u001b[1;31m# We create a writer manually so that we can get the\u001b[0m\u001b[1;33m\u001b[0m\u001b[1;33m\u001b[0m\u001b[0m\n\u001b[0;32m   1408\u001b[0m                 \u001b[1;31m# appropriate size for the tag\u001b[0m\u001b[1;33m\u001b[0m\u001b[1;33m\u001b[0m\u001b[0m\n\u001b[1;32m-> 1409\u001b[1;33m                 \u001b[0mWriter\u001b[0m \u001b[1;33m=\u001b[0m \u001b[0mwriters\u001b[0m\u001b[1;33m[\u001b[0m\u001b[0mrcParams\u001b[0m\u001b[1;33m[\u001b[0m\u001b[1;34m'animation.writer'\u001b[0m\u001b[1;33m]\u001b[0m\u001b[1;33m]\u001b[0m\u001b[1;33m\u001b[0m\u001b[0m\n\u001b[0m\u001b[0;32m   1410\u001b[0m                 writer = Writer(codec='h264',\n\u001b[0;32m   1411\u001b[0m                                 \u001b[0mbitrate\u001b[0m\u001b[1;33m=\u001b[0m\u001b[0mrcParams\u001b[0m\u001b[1;33m[\u001b[0m\u001b[1;34m'animation.bitrate'\u001b[0m\u001b[1;33m]\u001b[0m\u001b[1;33m,\u001b[0m\u001b[1;33m\u001b[0m\u001b[0m\n",
      "\u001b[1;32m~\\Anaconda3\\lib\\site-packages\\matplotlib\\animation.py\u001b[0m in \u001b[0;36m__getitem__\u001b[1;34m(self, name)\u001b[0m\n\u001b[0;32m    168\u001b[0m         \u001b[1;32mif\u001b[0m \u001b[1;32mnot\u001b[0m \u001b[0mself\u001b[0m\u001b[1;33m.\u001b[0m\u001b[0mavail\u001b[0m\u001b[1;33m:\u001b[0m\u001b[1;33m\u001b[0m\u001b[0m\n\u001b[0;32m    169\u001b[0m             \u001b[1;32mraise\u001b[0m \u001b[0mRuntimeError\u001b[0m\u001b[1;33m(\u001b[0m\u001b[1;34m\"No MovieWriters available!\"\u001b[0m\u001b[1;33m)\u001b[0m\u001b[1;33m\u001b[0m\u001b[0m\n\u001b[1;32m--> 170\u001b[1;33m         \u001b[1;32mreturn\u001b[0m \u001b[0mself\u001b[0m\u001b[1;33m.\u001b[0m\u001b[0mavail\u001b[0m\u001b[1;33m[\u001b[0m\u001b[0mname\u001b[0m\u001b[1;33m]\u001b[0m\u001b[1;33m\u001b[0m\u001b[0m\n\u001b[0m\u001b[0;32m    171\u001b[0m \u001b[1;33m\u001b[0m\u001b[0m\n\u001b[0;32m    172\u001b[0m \u001b[0mwriters\u001b[0m \u001b[1;33m=\u001b[0m \u001b[0mMovieWriterRegistry\u001b[0m\u001b[1;33m(\u001b[0m\u001b[1;33m)\u001b[0m\u001b[1;33m\u001b[0m\u001b[0m\n",
      "\u001b[1;31mKeyError\u001b[0m: 'ffmpeg'"
     ]
    },
    {
     "data": {
      "image/png": "[encoded data removed]",
      "text/plain": [
       "<matplotlib.figure.Figure at 0x14bd3a8a278>"
      ]
     },
     "metadata": {},
     "output_type": "display_data"
    }
   ],
   "source": [
    "mat = animation(20, 20, 5)"
   ]
  },
  {
   "cell_type": "code",
   "execution_count": null,
   "metadata": {},
   "outputs": [],
   "source": []
  }
 ],
 "metadata": {
  "kernelspec": {
   "display_name": "Python 3",
   "language": "python",
   "name": "python3"
  },
  "language_info": {
   "codemirror_mode": {
    "name": "ipython",
    "version": 3
   },
   "file_extension": ".py",
   "mimetype": "text/x-python",
   "name": "python",
   "nbconvert_exporter": "python",
   "pygments_lexer": "ipython3",
   "version": "3.6.4"
  }
 },
 "nbformat": 4,
 "nbformat_minor": 1
}

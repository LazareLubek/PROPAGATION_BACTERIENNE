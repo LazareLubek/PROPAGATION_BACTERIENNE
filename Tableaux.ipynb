{
 "cells": [
  {
   "cell_type": "code",
   "execution_count": null,
   "metadata": {
    "collapsed": true
   },
   "outputs": [],
   "source": [
    "def compteur(mat):\n",
    "    compt_G=0\n",
    "    compt_B=0\n",
    "    for i in mat:\n",
    "        for j in i:\n",
    "            if j==2:\n",
    "                compt_G=compt_G +1\n",
    "            elif  j==1:\n",
    "                compt_B=compt_B +1\n",
    "    return (compt_G,compt_B)"
   ]
  },
  {
   "cell_type": "code",
   "execution_count": null,
   "metadata": {
    "collapsed": true
   },
   "outputs": [],
   "source": [
    "def simulate1(verbose=False):\n",
    "    \"\"\"Simulate multiple transitions.\"\"\"\n",
    "    resultsG =[]\n",
    "    resultsB=[]\n",
    "    new_state = mat\n",
    "    for i in range(20):\n",
    "        nombre_G,nombre_B=compteur(mat)\n",
    "        if verbose:\n",
    "            print(i, nombre_G)\n",
    "            print(i, nombre_B)\n",
    "        resultsG.append(nombre_G)\n",
    "        resultsB.append(nombre_B)\n",
    "    \n",
    "    return resultsG, resultsB"
   ]
  },
  {
   "cell_type": "code",
   "execution_count": null,
   "metadata": {
    "collapsed": true
   },
   "outputs": [],
   "source": [
    "import matplotlib.pyplot as plt\n",
    "%matplotlib inline\n",
    "\n",
    "resultsG, resultsB = simulate1()\n",
    "for i in range(20):\n",
    "    x = i\n",
    "    y = resultsG[i]\n",
    "    z=resultsB[i]\n",
    "    plt.scatter(x,z, s=2, c='C0')\n",
    "    plt.scatter(x,y, s=2, c='C0')\n",
    "    plt.xlabel(\"Temps\")\n",
    "    plt.ylabel(\"Nombre de bactéries/Globules\")"
   ]
  },
  {
   "cell_type": "code",
   "execution_count": null,
   "metadata": {
    "collapsed": true
   },
   "outputs": [],
   "source": []
  }
 ],
 "metadata": {
  "kernelspec": {
   "display_name": "Python 3",
   "language": "python",
   "name": "python3"
  },
  "language_info": {
   "codemirror_mode": {
    "name": "ipython",
    "version": 3
   },
   "file_extension": ".py",
   "mimetype": "text/x-python",
   "name": "python",
   "nbconvert_exporter": "python",
   "pygments_lexer": "ipython3",
   "version": "3.6.3"
  }
 },
 "nbformat": 4,
 "nbformat_minor": 2
}

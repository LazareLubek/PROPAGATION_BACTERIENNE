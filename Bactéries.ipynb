{
 "cells": [
  {
   "cell_type": "markdown",
   "metadata": {},
   "source": [
    "# Modélisation du système bactérie/anticorps"
   ]
  },
  {
   "cell_type": "markdown",
   "metadata": {},
   "source": [
    "Nadir Ait Kheddache, Idriss Alaoui Souliman, Fabien Benthami, Alma Draeger, Alexandre Janin"
   ]
  },
  {
   "cell_type": "code",
   "execution_count": 1,
   "metadata": {},
   "outputs": [],
   "source": [
    "#Imports\n",
    "import numpy as np\n",
    "import ipywidgets as widgets\n",
    "import matplotlib\n",
    "import matplotlib.pyplot as plt\n",
    "import IPython"
   ]
  },
  {
   "cell_type": "code",
   "execution_count": 1060,
   "metadata": {},
   "outputs": [],
   "source": [
    "#Variables globales\n",
    "\n",
    "#Infini\n",
    "infini = False\n",
    "\n",
    "#probabilité d'avoir chaque type de cellule (0: vide, 1: bactérie, 2: globule blanc, 3: nutriments)\n",
    "#la somme des probabilités doit être égale à 1\n",
    "proba = [0.6, 0.1, 0, 0.3]\n",
    "\n",
    "#probabilité qu'une cellule vide se transforme en nutriments\n",
    "proba_apparition_nutriments = 0.03\n",
    "\n",
    "#nombre de GB nécessaires pour tuer une bactérie\n",
    "nb_gb_necessaires = 2\n",
    "\n",
    "#nombre de GB voisins à partir duquel le GB central meurt\n",
    "nb_gb_surpop = 5\n",
    "\n",
    "#nombres de bactéries voisines à partir duquel la bactérie meurt \n",
    "nb_b_surpop = 5\n",
    "\n",
    "#nombres de bactéries voisines à partir duquel le globule blanc meurt \n",
    "nb_b_necessaires = 5\n",
    "\n",
    "#nombre de gb qui apparait par bacterie à chaque étape\n",
    "gb_par_bact = 0.2\n",
    "\n",
    "#temps de survie des bactéries sans nutriments\n",
    "t_survie_b = 2\n",
    "\n",
    "#temps de survie des globules blancs sans bactéries\n",
    "t_survie_gb = 10\n",
    "\n",
    "#temps de survie des nutriments\n",
    "t_survie_n = 2\n",
    "\n",
    "#Symbole qui représente chaque valeur de cellule\n",
    "cara = ['-', 'B', 'G', 'n']"
   ]
  },
  {
   "cell_type": "code",
   "execution_count": 1061,
   "metadata": {},
   "outputs": [],
   "source": [
    "def matrice(l, h, vide = False):\n",
    "    \"\"\" int^2 -> int[][]\n",
    "    largeur > 0, hauteur > 0\n",
    "    Renvoie une matrice de 0 de l colonnes et h lignes\"\"\"\n",
    "    \n",
    "    if(vide):  \n",
    "        return [[0 for x in range(l)] for y in range(h)]\n",
    "    else:\n",
    "        return [[aleatoire() for x in range(l)] for y in range(h)]"
   ]
  },
  {
   "cell_type": "code",
   "execution_count": 1062,
   "metadata": {},
   "outputs": [],
   "source": [
    "def aleatoire():\n",
    "    \"\"\"float -> int\n",
    "    Renvoie le type de cellule (0, 1, 2, 3) selon le nombre aléatoire tiré\"\"\"\n",
    "    \n",
    "    alea = np.random.rand()\n",
    "    \n",
    "    for i in range(len(proba)):\n",
    "        p = proba[i]\n",
    "        if alea <= p:\n",
    "            return i\n",
    "        else:\n",
    "            alea -= p\n",
    "            \n",
    "    return 0"
   ]
  },
  {
   "cell_type": "code",
   "execution_count": 1063,
   "metadata": {},
   "outputs": [],
   "source": [
    "def printmatrice(M, T):\n",
    "    \"\"\"int[][] -> NoneType\n",
    "    Affiche la matrice M\"\"\"\n",
    "    IPython.display.clear_output()\n",
    "    for y in range(len(M)):\n",
    "        s = \"\"\n",
    "        for cell in M[y]:\n",
    "            s += cara[cell] + ' '\n",
    "            \n",
    "        s += '\\t'\n",
    "        for t in T[y]:\n",
    "            s += str(t) + ' '\n",
    "        print(s + \"\\n\")\n",
    "    \n",
    "    compte = compteur(M)\n",
    "    \n",
    "    print(\"Bactéries: \", compte[1], \"\\nGlobules blancs: \", compte[2])"
   ]
  },
  {
   "cell_type": "code",
   "execution_count": 1064,
   "metadata": {},
   "outputs": [],
   "source": [
    "def voisinage(M, x, y):\n",
    "    \"\"\"int[][] * int * int * bool-> int[]\n",
    "    Renvoie la liste des voisins de la case (x, y).\n",
    "    Si infini est False, on ne prend pas les voisins hors de la matrice\"\"\"\n",
    "    v = [0, 0, 0, 0]\n",
    "    \n",
    "    ymax = len(M)\n",
    "    xmax = len(M[0])\n",
    "    \n",
    "    for i in [x - 1, x, x + 1]:\n",
    "        if (0 <= i and i < xmax):\n",
    "            for j in [y - 1, y, y + 1]:\n",
    "                if (0 <= j and j < ymax):\n",
    "                        if (i, j) != (x, y): #Si i, j n'est pas la case centrale\n",
    "                            v[M[j][i]] += 1\n",
    "    return v"
   ]
  },
  {
   "cell_type": "code",
   "execution_count": 1065,
   "metadata": {},
   "outputs": [],
   "source": [
    "def next_step_matrice(M, temps):\n",
    "    \"\"\"int[][] -> int [][]\n",
    "    Renvoie la matrice à l'étape suivante.\"\"\"\n",
    "    \n",
    "    nv_M = list(M)\n",
    "    \n",
    "    compte = compteur(nv_M)\n",
    "    \n",
    "    proba_apoptose = 0\n",
    "    \n",
    "    for y in range(len(M)):\n",
    "        for x in range(len(M[y])):\n",
    "            nv_M[y][x] = next_step_cellule(x, y, M, temps, proba_apoptose)\n",
    "\n",
    "    reaction_gb(nv_M, int(gb_par_bact * compte[1]))\n",
    "\n",
    "    return nv_M"
   ]
  },
  {
   "cell_type": "code",
   "execution_count": 1066,
   "metadata": {},
   "outputs": [],
   "source": [
    "def next_step_cellule(x, y, matrice, t, proba_apoptose):\n",
    "    \"\"\"int * int[] -> int\n",
    "    Hypothèse: c = 0 ou 1 ou 2 ou 3\n",
    "    Renvoie l'état suivant d'une cellule c en fonction de son état actuel et de ses voisins.\"\"\"\n",
    "    \n",
    "    c = matrice[y][x]\n",
    "    \n",
    "    voisins = voisinage(matrice, x, y)\n",
    "    \n",
    "    vides = voisins[0]\n",
    "    bacteries = voisins[1]\n",
    "    globules = voisins[2]\n",
    "    nutriments = voisins[3]\n",
    "    \n",
    "    if (c == 0): #La cellule est vide\n",
    "        if (np.random.rand() <= proba_apparition_nutriments): #Un nutriment apparait\n",
    "            return 3\n",
    "        else: #La cellule reste vide\n",
    "            return 0\n",
    "        \n",
    "    if (c == 1): #Bactérie\n",
    "        if (nutriments >= 1):\n",
    "            t[y][x] = 0\n",
    "        else:\n",
    "            t[y][x] += 1\n",
    "            if(t[y][x] >= t_survie_b):\n",
    "                t[y][x] = 0\n",
    "                return 0\n",
    "        if (globules >= nb_gb_necessaires): #Les GB tuent la bactérie\n",
    "            return 0\n",
    "        elif(bacteries >= nb_b_surpop): #La bactérie meurt (surpopulation)\n",
    "            return 0\n",
    "        else: #La bactérie survit\n",
    "            return 1\n",
    "        \n",
    "    if (c == 2): #Globule blanc\n",
    "        if (bacteries >= 1):\n",
    "            t[y][x] = 0\n",
    "        else:\n",
    "            t[y][x] += 1\n",
    "            if(t[y][x] >= t_survie_gb):\n",
    "                t[y][x] = 0\n",
    "                return 0\n",
    "            \n",
    "        if (np.random.rand() <= proba_apoptose): #Le GB meurt par apoptose\n",
    "            return 0\n",
    "        elif (bacteries >= nb_b_necessaires): #Il y a trop de bactéries, le GB meurt\n",
    "            return 0\n",
    "        elif (globules >= nb_gb_surpop): #Surpopulation\n",
    "            return 0\n",
    "        else: #Le GB survit\n",
    "            return 2\n",
    "        \n",
    "    if (c == 3): #Nutriment\n",
    "        if (bacteries >= 1):\n",
    "            t[y][x] = 0\n",
    "        else:\n",
    "            t[y][x] += 1\n",
    "            if(t[y][x] >= t_survie_n):\n",
    "                t[y][x] = 0\n",
    "                return 0\n",
    "            \n",
    "        if (bacteries > 0 and globules == 0): #La bactérie voisine se multiplie\n",
    "            return 1\n",
    "        else: #La cellule reste un nutriment\n",
    "            return 3\n",
    "        \n",
    "    print(\"Erreur: c invalide:\", c)"
   ]
  },
  {
   "cell_type": "code",
   "execution_count": 1067,
   "metadata": {},
   "outputs": [],
   "source": [
    "def reaction_gb(mat, nb_gb):\n",
    "    h = len(mat)\n",
    "    l = len(mat[0])\n",
    "    \n",
    "    for i in range(nb_gb):\n",
    "        essais = 0\n",
    "        \n",
    "        while(essais < 100):\n",
    "            x = np.random.randint(0, l)\n",
    "            y = np.random.randint(0, h)\n",
    "            if(mat[y][x] == 0 or mat[y][x] == 1):\n",
    "                mat[y][x] = 2\n",
    "                break"
   ]
  },
  {
   "cell_type": "code",
   "execution_count": 1068,
   "metadata": {},
   "outputs": [],
   "source": [
    "def display_next_step(b):\n",
    "    global mat\n",
    "    global t\n",
    "    global button\n",
    "    global reset_button\n",
    "    \n",
    "    mat = next_step_matrice(mat, t)\n",
    "    printmatrice(mat, t)\n",
    "    \n",
    "    display(reset_button)\n",
    "    display(button)"
   ]
  },
  {
   "cell_type": "code",
   "execution_count": 1069,
   "metadata": {},
   "outputs": [],
   "source": [
    "def reset(b):\n",
    "    global mat\n",
    "    global t\n",
    "    mat = matrice(16, 8)\n",
    "    t = matrice(16, 8, True)\n",
    "    printmatrice(mat, t)\n",
    "    display(reset_button)\n",
    "    display(button)"
   ]
  },
  {
   "cell_type": "code",
   "execution_count": 1070,
   "metadata": {},
   "outputs": [
    {
     "data": {
      "application/vnd.jupyter.widget-view+json": {
       "model_id": "c603ef2b23bd40c4b3baf4f75c0b9b13",
       "version_major": 2,
       "version_minor": 0
      },
      "text/html": [
       "<p>Failed to display Jupyter Widget of type <code>Button</code>.</p>\n",
       "<p>\n",
       "  If you're reading this message in the Jupyter Notebook or JupyterLab Notebook, it may mean\n",
       "  that the widgets JavaScript is still loading. If this message persists, it\n",
       "  likely means that the widgets JavaScript library is either not installed or\n",
       "  not enabled. See the <a href=\"https://ipywidgets.readthedocs.io/en/stable/user_install.html\">Jupyter\n",
       "  Widgets Documentation</a> for setup instructions.\n",
       "</p>\n",
       "<p>\n",
       "  If you're reading this message in another frontend (for example, a static\n",
       "  rendering on GitHub or <a href=\"https://nbviewer.jupyter.org/\">NBViewer</a>),\n",
       "  it may mean that your frontend doesn't currently support widgets.\n",
       "</p>\n"
      ],
      "text/plain": [
       "Button(button_style='info', description='Reset', icon='check', style=ButtonStyle(), tooltip='Click me!')"
      ]
     },
     "metadata": {},
     "output_type": "display_data"
    },
    {
     "data": {
      "application/vnd.jupyter.widget-view+json": {
       "model_id": "bafd789c7c684f06aff389ef5362822e",
       "version_major": 2,
       "version_minor": 0
      },
      "text/html": [
       "<p>Failed to display Jupyter Widget of type <code>Button</code>.</p>\n",
       "<p>\n",
       "  If you're reading this message in the Jupyter Notebook or JupyterLab Notebook, it may mean\n",
       "  that the widgets JavaScript is still loading. If this message persists, it\n",
       "  likely means that the widgets JavaScript library is either not installed or\n",
       "  not enabled. See the <a href=\"https://ipywidgets.readthedocs.io/en/stable/user_install.html\">Jupyter\n",
       "  Widgets Documentation</a> for setup instructions.\n",
       "</p>\n",
       "<p>\n",
       "  If you're reading this message in another frontend (for example, a static\n",
       "  rendering on GitHub or <a href=\"https://nbviewer.jupyter.org/\">NBViewer</a>),\n",
       "  it may mean that your frontend doesn't currently support widgets.\n",
       "</p>\n"
      ],
      "text/plain": [
       "Button(button_style='info', description='Next Step', icon='check', style=ButtonStyle(), tooltip='Click me!')"
      ]
     },
     "metadata": {},
     "output_type": "display_data"
    }
   ],
   "source": [
    "reset_button = widgets.Button(\n",
    "    description='Reset',\n",
    "    disabled=False,\n",
    "    button_style='info', # 'success', 'info', 'warning', 'danger' or ''\n",
    "    tooltip='Click me!',\n",
    "    icon='check'\n",
    ")\n",
    "\n",
    "button = widgets.Button(\n",
    "    description='Next Step',\n",
    "    disabled=False,\n",
    "    button_style='info', # 'success', 'info', 'warning', 'danger' or ''\n",
    "    tooltip='Click me!',\n",
    "    icon='check'\n",
    ")\n",
    "\n",
    "button.on_click(display_next_step)\n",
    "reset_button.on_click(reset)\n",
    "\n",
    "display(reset_button)\n",
    "display(button)"
   ]
  },
  {
   "cell_type": "code",
   "execution_count": 1071,
   "metadata": {},
   "outputs": [],
   "source": [
    "def compteur(mat):\n",
    "    \"\"\"int[][] -> (int, int)\n",
    "    Renvoie le nombre de GB et bactéries dans une matrice\"\"\"\n",
    "    compte = [0, 0, 0, 0]\n",
    "    for i in mat:\n",
    "        for j in i:\n",
    "            compte[j] += 1\n",
    "    return compte"
   ]
  },
  {
   "cell_type": "code",
   "execution_count": 1072,
   "metadata": {},
   "outputs": [],
   "source": [
    "def simulate_compte(l, h, steps):\n",
    "    \"\"\"int * bool -> (int, int, int)\n",
    "    Renvoie le nombre de GB et bactéries apres steps étapes.\"\"\"\n",
    "    \n",
    "    mat = matrice(l, h)\n",
    "    \n",
    "    temps = matrice(l, h, True)\n",
    "    \n",
    "    resultsG = []\n",
    "    resultsB = []\n",
    "    resultsN = []\n",
    "    \n",
    "    for i in range(steps):\n",
    "        compte = compteur(mat)\n",
    "        resultsG.append(compte[2])\n",
    "        resultsB.append(compte[1])\n",
    "        resultsN.append(compte[3])\n",
    "        mat = next_step_matrice(mat, temps)\n",
    "    \n",
    "    return resultsG, resultsB, resultsN"
   ]
  },
  {
   "cell_type": "code",
   "execution_count": 1078,
   "metadata": {},
   "outputs": [
    {
     "data": {
      "image/png": "[encoded data removed]",
      "text/plain": [
       "<matplotlib.figure.Figure at 0x1ceceadc940>"
      ]
     },
     "metadata": {},
     "output_type": "display_data"
    }
   ],
   "source": [
    "resultsG, resultsB, resultsN = simulate_compte(20,20,200)\n",
    "\n",
    "x = list(range(len(resultsG)))\n",
    "\n",
    "plt.plot(x, resultsG, c = 'blue', label = \"Globules blancs\")\n",
    "plt.plot(x, resultsB, c = 'red', label = \"Bactéries\")\n",
    "plt.plot(x, resultsN, c = 'green', label = \"Nutriments\")\n",
    "\n",
    "plt.ylabel(\"nombre d'individus\")\n",
    "plt.xlabel(\"étapes\")\n",
    "\n",
    "plt.legend(loc = \"best\")\n",
    "\n",
    "plt.title(\"évolution du nombre de globules blancs\\net de bactéries au cours du temps\")\n",
    "\n",
    "plt.show()"
   ]
  },
  {
   "cell_type": "code",
   "execution_count": null,
   "metadata": {},
   "outputs": [],
   "source": []
  },
  {
   "cell_type": "code",
   "execution_count": null,
   "metadata": {},
   "outputs": [],
   "source": []
  },
  {
   "cell_type": "code",
   "execution_count": null,
   "metadata": {},
   "outputs": [],
   "source": []
  },
  {
   "cell_type": "code",
   "execution_count": null,
   "metadata": {},
   "outputs": [],
   "source": []
  },
  {
   "cell_type": "code",
   "execution_count": null,
   "metadata": {},
   "outputs": [],
   "source": []
  },
  {
   "cell_type": "code",
   "execution_count": null,
   "metadata": {},
   "outputs": [],
   "source": []
  },
  {
   "cell_type": "code",
   "execution_count": null,
   "metadata": {},
   "outputs": [],
   "source": []
  },
  {
   "cell_type": "code",
   "execution_count": null,
   "metadata": {},
   "outputs": [],
   "source": []
  },
  {
   "cell_type": "code",
   "execution_count": null,
   "metadata": {},
   "outputs": [],
   "source": []
  }
 ],
 "metadata": {
  "kernelspec": {
   "display_name": "Python 3",
   "language": "python",
   "name": "python3"
  },
  "language_info": {
   "codemirror_mode": {
    "name": "ipython",
    "version": 3
   },
   "file_extension": ".py",
   "mimetype": "text/x-python",
   "name": "python",
   "nbconvert_exporter": "python",
   "pygments_lexer": "ipython3",
   "version": "3.6.4"
  }
 },
 "nbformat": 4,
 "nbformat_minor": 1
}

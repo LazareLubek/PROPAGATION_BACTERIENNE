{
 "cells": [
  {
   "cell_type": "markdown",
   "metadata": {},
   "source": [
    "# Modélisation du système bactérie/anticorps"
   ]
  },
  {
   "cell_type": "markdown",
   "metadata": {},
   "source": [
    "Nadir Ait Kheddache, Idriss Alaoui Souliman, Fabien Benthami, Alma Draeger, Alexandre Janin"
   ]
  },
  {
   "cell_type": "code",
   "execution_count": 1,
   "metadata": {},
   "outputs": [],
   "source": [
    "#Imports\n",
    "import numpy as np\n",
    "import ipywidgets as widgets\n",
    "import matplotlib\n",
    "import matplotlib.pyplot as plt\n",
    "import IPython"
   ]
  },
  {
   "cell_type": "code",
   "execution_count": 355,
   "metadata": {},
   "outputs": [],
   "source": [
    "#Variables globales\n",
    "\n",
    "#Infini\n",
    "infini = False\n",
    "\n",
    "#True: les bactéries meurent si elles n'ont pas de nutriment à proximité\n",
    "nutriments_necessaires = False\n",
    "\n",
    "#probabilité d'avoir chaque type de cellule (0: vide, 1: bactérie, 2: globule blanc, 3: nutriments)\n",
    "#la somme des probabilités doit être égale à 1\n",
    "proba = [0.5, 0.1, 0.1, 0.3]\n",
    "\n",
    "#probabilité qu'une cellule vide se transforme en nutriments\n",
    "proba_apparition_nutriments = 0.2\n",
    "\n",
    "#nombre de GB nécessaires pour tuer une bactérie\n",
    "nb_gb_necessaires = 2\n",
    "\n",
    "#nombre de GB voisins à partir duquel le GB central meurt\n",
    "nb_gb_surpop = 5\n",
    "\n",
    "#nombres de bactéries voisines à partir duquel la bactérie meurt \n",
    "nb_b_surpop = 5\n",
    "\n",
    "#nombres de bactéries voisines à partir duquel le globule blanc meurt \n",
    "nb_b_necessaires = 5\n",
    "\n",
    "#nombre de gb qui apparait par bacterie à chaque étape\n",
    "gb_par_bact = 0.1\n",
    "\n",
    "#Symbole qui représente chaque valeur de cellule\n",
    "cara = ['-', 'B', 'G', 'n']"
   ]
  },
  {
   "cell_type": "code",
   "execution_count": 356,
   "metadata": {},
   "outputs": [],
   "source": [
    "def matrice(l, h):\n",
    "    \"\"\" int^2 -> int[][]\n",
    "    largeur > 0, hauteur > 0\n",
    "    Renvoie une matrice de 0 de l colonnes et h lignes\"\"\"\n",
    "    \n",
    "    return [[aleatoire() for x in range(l)] for y in range(h)]"
   ]
  },
  {
   "cell_type": "code",
   "execution_count": 357,
   "metadata": {},
   "outputs": [],
   "source": [
    "def aleatoire():\n",
    "    \"\"\"float -> int\n",
    "    Renvoie le type de cellule (0, 1, 2, 3) selon le nombre aléatoire tiré\"\"\"\n",
    "    \n",
    "    alea = np.random.rand()\n",
    "    \n",
    "    for i in range(len(proba)):\n",
    "        p = proba[i]\n",
    "        if alea <= p:\n",
    "            return i\n",
    "        else:\n",
    "            alea -= p\n",
    "            \n",
    "    return 0"
   ]
  },
  {
   "cell_type": "code",
   "execution_count": 358,
   "metadata": {},
   "outputs": [],
   "source": [
    "def printmatrice(M):\n",
    "    \"\"\"int[][] -> NoneType\n",
    "    Affiche la matrice M\"\"\"\n",
    "    IPython.display.clear_output()\n",
    "    for ligne in M:\n",
    "        s = \"\"\n",
    "        for cell in ligne:\n",
    "            s += cara[cell] + ' '\n",
    "        print(s + \"\\n\")"
   ]
  },
  {
   "cell_type": "code",
   "execution_count": 359,
   "metadata": {},
   "outputs": [],
   "source": [
    "def voisinage(M, x, y):\n",
    "    \"\"\"int[][] * int * int * bool-> int[]\n",
    "    Renvoie la liste des voisins de la case (x, y).\n",
    "    Si infini est False, on ne prend pas les voisins hors de la matrice\"\"\"\n",
    "    v = [0, 0, 0, 0]\n",
    "    \n",
    "    ymax = len(M)\n",
    "    xmax = len(M[0])\n",
    "    \n",
    "    for i in [x - 1, x, x + 1]:\n",
    "        if (0 <= i and i < xmax):\n",
    "            for j in [y - 1, y, y + 1]:\n",
    "                if (0 <= j and j < ymax):\n",
    "                        if (i, j) != (x, y): #Si i, j n'est pas la case centrale\n",
    "                            v[M[j][i]] += 1\n",
    "    return v"
   ]
  },
  {
   "cell_type": "code",
   "execution_count": 360,
   "metadata": {},
   "outputs": [],
   "source": [
    "def next_step_matrice(M):\n",
    "    \"\"\"int[][] -> int [][]\n",
    "    Renvoie la matrice à l'étape suivante.\"\"\"\n",
    "    \n",
    "    nv_M = list(M)\n",
    "    \n",
    "    nb_gb, nb_b = compteur(nv_M)\n",
    "    \n",
    "    proba_apoptose = (nb_gb-nb_b)/(len(M)*len(M[0]))\n",
    "    \n",
    "    for y in range(len(M)):\n",
    "        for x in range(len(M[y])):\n",
    "            nv_M[y][x] = next_step_cellule(M[y][x], voisinage(M, x, y), proba_apoptose)\n",
    "\n",
    "    reaction_gb(nv_M, int(gb_par_bact * nb_b))\n",
    "\n",
    "    return nv_M"
   ]
  },
  {
   "cell_type": "code",
   "execution_count": 361,
   "metadata": {},
   "outputs": [],
   "source": [
    "def next_step_cellule(c, voisins, proba_apoptose):\n",
    "    \"\"\"int * int[] -> int\n",
    "    Hypothèse: c = 0 ou 1 ou 2 ou 3\n",
    "    Renvoie l'état suivant d'une cellule c en fonction de son état actuel et de ses voisins.\"\"\"\n",
    "    \n",
    "    vides = voisins[0]\n",
    "    bacteries = voisins[1]\n",
    "    globules = voisins[2]\n",
    "    nutriments = voisins[3]\n",
    "    \n",
    "    if (c == 0): #La cellule est vide\n",
    "        if (np.random.rand() <= proba_apparition_nutriments): #Un nutriment apparait\n",
    "            return 3\n",
    "        else: #La cellule reste vide\n",
    "            return 0\n",
    "        \n",
    "    if (c == 1): #Bactérie\n",
    "        if (globules >= nb_gb_necessaires): #Les GB tuent la bactérie\n",
    "            return 0\n",
    "        elif(bacteries >= nb_b_surpop): #La bactérie meurt (surpopulation)\n",
    "            return 0\n",
    "        elif(nutriments_necessaires and nutriments == 0):\n",
    "            return 0\n",
    "        else: #La bactérie survit\n",
    "            return 1\n",
    "        \n",
    "    if (c == 2): #Globule blanc\n",
    "        if (np.random.rand() <= proba_apoptose): #Le GB meurt par apoptose\n",
    "            return 0\n",
    "        elif (bacteries >= nb_b_necessaires): #Il y a trop de bactéries, le GB meurt\n",
    "            return 0\n",
    "        elif (globules >= nb_gb_surpop): #Surpopulation\n",
    "            return 0\n",
    "        else: #Le GB survit\n",
    "            return 2\n",
    "        \n",
    "    if (c == 3): #Nutriment\n",
    "        if (bacteries > 0): #La bactérie voisine se multiplie\n",
    "            return 1\n",
    "        else: #La cellule reste un nutriment\n",
    "            return 3\n",
    "        \n",
    "    print(\"Erreur: c invalide:\", c)"
   ]
  },
  {
   "cell_type": "code",
   "execution_count": 362,
   "metadata": {},
   "outputs": [],
   "source": [
    "def reaction_gb(mat, nb_gb):\n",
    "    h = len(mat)\n",
    "    l = len(mat[0])\n",
    "    \n",
    "    for i in range(nb_gb):\n",
    "        essais = 0\n",
    "        \n",
    "        while(essais < 100):\n",
    "            x = np.random.randint(0, l)\n",
    "            y = np.random.randint(0, h)\n",
    "            if(mat[y][x] == 0 or mat[y][x] == 1):\n",
    "                mat[y][x] = 2\n",
    "                break"
   ]
  },
  {
   "cell_type": "code",
   "execution_count": 363,
   "metadata": {},
   "outputs": [],
   "source": [
    "mat = matrice(16,8)"
   ]
  },
  {
   "cell_type": "code",
   "execution_count": 364,
   "metadata": {},
   "outputs": [],
   "source": [
    "def display_next_step(b):\n",
    "    global mat\n",
    "    global button\n",
    "    global reset_button\n",
    "    \n",
    "    mat = next_step_matrice(mat)\n",
    "    printmatrice(mat)\n",
    "    nb_gb, nb_b = compteur(mat)\n",
    "    \n",
    "    display(reset_button)\n",
    "    display(button)"
   ]
  },
  {
   "cell_type": "code",
   "execution_count": 365,
   "metadata": {},
   "outputs": [],
   "source": [
    "def reset(b):\n",
    "    global mat\n",
    "    mat = matrice(16, 8)\n",
    "    printmatrice(mat)\n",
    "    display(reset_button)\n",
    "    display(button)"
   ]
  },
  {
   "cell_type": "code",
   "execution_count": 366,
   "metadata": {},
   "outputs": [
    {
     "name": "stdout",
     "output_type": "stream",
     "text": [
      "B B G n B - G - G G G - n n n - \n",
      "\n",
      "n G G G - - G G B - n - G G G G \n",
      "\n",
      "G B B - G - - - n B - - - - - - \n",
      "\n",
      "- G B - - G - G B G B - G - B B \n",
      "\n",
      "- G B G - G - n B G G B B - B B \n",
      "\n",
      "G n - n G - - B - B B - G n n B \n",
      "\n",
      "G - B B - G G - - G - - - B - B \n",
      "\n",
      "- G B B B - n G - B B B B B B G \n",
      "\n"
     ]
    },
    {
     "data": {
      "application/vnd.jupyter.widget-view+json": {
       "model_id": "59cd4bb8c18f4390a6bf17fbc8e56a6a",
       "version_major": 2,
       "version_minor": 0
      },
      "text/html": [
       "<p>Failed to display Jupyter Widget of type <code>Button</code>.</p>\n",
       "<p>\n",
       "  If you're reading this message in the Jupyter Notebook or JupyterLab Notebook, it may mean\n",
       "  that the widgets JavaScript is still loading. If this message persists, it\n",
       "  likely means that the widgets JavaScript library is either not installed or\n",
       "  not enabled. See the <a href=\"https://ipywidgets.readthedocs.io/en/stable/user_install.html\">Jupyter\n",
       "  Widgets Documentation</a> for setup instructions.\n",
       "</p>\n",
       "<p>\n",
       "  If you're reading this message in another frontend (for example, a static\n",
       "  rendering on GitHub or <a href=\"https://nbviewer.jupyter.org/\">NBViewer</a>),\n",
       "  it may mean that your frontend doesn't currently support widgets.\n",
       "</p>\n"
      ],
      "text/plain": [
       "Button(button_style='info', description='Reset', icon='check', style=ButtonStyle(), tooltip='Click me!')"
      ]
     },
     "metadata": {},
     "output_type": "display_data"
    },
    {
     "data": {
      "application/vnd.jupyter.widget-view+json": {
       "model_id": "e946b390982e414bbfbd6e0516e08741",
       "version_major": 2,
       "version_minor": 0
      },
      "text/html": [
       "<p>Failed to display Jupyter Widget of type <code>Button</code>.</p>\n",
       "<p>\n",
       "  If you're reading this message in the Jupyter Notebook or JupyterLab Notebook, it may mean\n",
       "  that the widgets JavaScript is still loading. If this message persists, it\n",
       "  likely means that the widgets JavaScript library is either not installed or\n",
       "  not enabled. See the <a href=\"https://ipywidgets.readthedocs.io/en/stable/user_install.html\">Jupyter\n",
       "  Widgets Documentation</a> for setup instructions.\n",
       "</p>\n",
       "<p>\n",
       "  If you're reading this message in another frontend (for example, a static\n",
       "  rendering on GitHub or <a href=\"https://nbviewer.jupyter.org/\">NBViewer</a>),\n",
       "  it may mean that your frontend doesn't currently support widgets.\n",
       "</p>\n"
      ],
      "text/plain": [
       "Button(button_style='info', description='Next Step', icon='check', style=ButtonStyle(), tooltip='Click me!')"
      ]
     },
     "metadata": {},
     "output_type": "display_data"
    }
   ],
   "source": [
    "reset_button = widgets.Button(\n",
    "    description='Reset',\n",
    "    disabled=False,\n",
    "    button_style='info', # 'success', 'info', 'warning', 'danger' or ''\n",
    "    tooltip='Click me!',\n",
    "    icon='check'\n",
    ")\n",
    "\n",
    "button = widgets.Button(\n",
    "    description='Next Step',\n",
    "    disabled=False,\n",
    "    button_style='info', # 'success', 'info', 'warning', 'danger' or ''\n",
    "    tooltip='Click me!',\n",
    "    icon='check'\n",
    ")\n",
    "\n",
    "button.on_click(display_next_step)\n",
    "reset_button.on_click(reset)\n",
    "\n",
    "display(reset_button)\n",
    "display(button)"
   ]
  },
  {
   "cell_type": "code",
   "execution_count": 351,
   "metadata": {},
   "outputs": [],
   "source": [
    "def simulate(l, h, steps):\n",
    "    \"\"\"int -> int[][]\n",
    "    Simule steps étapes et renvoie le résultat final\"\"\"\n",
    "    mat = matrice(l, h)\n",
    "    for i in range(steps):\n",
    "        mat = next_step_matrice(mat)\n",
    "        \n",
    "    return mat"
   ]
  },
  {
   "cell_type": "code",
   "execution_count": 352,
   "metadata": {},
   "outputs": [],
   "source": [
    "def compteur(mat):\n",
    "    \"\"\"int[][] -> (int, int)\n",
    "    Renvoie le nombre de GB et bactéries dans une matrice\"\"\"\n",
    "    compt_G=0\n",
    "    compt_B=0\n",
    "    for i in mat:\n",
    "        for j in i:\n",
    "            if j==2:\n",
    "                compt_G=compt_G +1\n",
    "            elif  j==1:\n",
    "                compt_B=compt_B +1\n",
    "    return (compt_G,compt_B)"
   ]
  },
  {
   "cell_type": "code",
   "execution_count": 353,
   "metadata": {},
   "outputs": [],
   "source": [
    "def simulate_compte(l, h, steps):\n",
    "    \"\"\"int * bool -> (int, int)\n",
    "    Renvoie le nombre de GB et bactéries apres steps étapes.\"\"\"\n",
    "    \n",
    "    mat = matrice(l, h)\n",
    "    \n",
    "    resultsG = []\n",
    "    resultsB = []\n",
    "    \n",
    "    for i in range(steps):\n",
    "        nombre_G,nombre_B = compteur(mat)\n",
    "        resultsG.append(nombre_G)\n",
    "        resultsB.append(nombre_B)\n",
    "        mat = next_step_matrice(mat)\n",
    "    \n",
    "    return resultsG, resultsB"
   ]
  },
  {
   "cell_type": "code",
   "execution_count": 354,
   "metadata": {},
   "outputs": [
    {
     "data": {
      "image/png": "[encoded data removed]",
      "text/plain": [
       "<matplotlib.figure.Figure at 0x1cecfcf6908>"
      ]
     },
     "metadata": {},
     "output_type": "display_data"
    }
   ],
   "source": [
    "resultsG, resultsB = simulate_compte(12,12,100)\n",
    "\n",
    "x = list(range(len(resultsG)))\n",
    "\n",
    "plt.plot(x, resultsG, c = 'blue', label = \"Globules blancs\")\n",
    "plt.plot(x, resultsB, c = 'red', label = \"Bactéries\")\n",
    "\n",
    "plt.ylabel(\"nombre d'individus\")\n",
    "plt.xlabel(\"étapes\")\n",
    "\n",
    "plt.legend(loc = \"best\")\n",
    "\n",
    "plt.title(\"évolution du nombre de globules blancs\\net de bactéries au cours du temps\")\n",
    "\n",
    "plt.show()"
   ]
  },
  {
   "cell_type": "code",
   "execution_count": null,
   "metadata": {},
   "outputs": [],
   "source": []
  },
  {
   "cell_type": "code",
   "execution_count": null,
   "metadata": {},
   "outputs": [],
   "source": []
  }
 ],
 "metadata": {
  "kernelspec": {
   "display_name": "Python 3",
   "language": "python",
   "name": "python3"
  },
  "language_info": {
   "codemirror_mode": {
    "name": "ipython",
    "version": 3
   },
   "file_extension": ".py",
   "mimetype": "text/x-python",
   "name": "python",
   "nbconvert_exporter": "python",
   "pygments_lexer": "ipython3",
   "version": "3.6.4"
  }
 },
 "nbformat": 4,
 "nbformat_minor": 1
}

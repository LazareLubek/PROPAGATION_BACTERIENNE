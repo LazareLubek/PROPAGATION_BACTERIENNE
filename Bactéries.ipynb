{
 "cells": [
  {
   "cell_type": "markdown",
   "metadata": {},
   "source": [
    "# Modélisation du système bactérie/anticorps"
   ]
  },
  {
   "cell_type": "markdown",
   "metadata": {},
   "source": [
    "Nadir Ait Kheddache, Idriss Alaoui Souliman, Fabien Benthami, Alma Draeger, Alexandre Janin"
   ]
  },
  {
   "cell_type": "code",
   "execution_count": 1,
   "metadata": {},
   "outputs": [],
   "source": [
    "#Imports\n",
    "import numpy as np;"
   ]
  },
  {
   "cell_type": "code",
   "execution_count": 40,
   "metadata": {},
   "outputs": [],
   "source": [
    "#Variables globales\n",
    "#probabilité d'avoir chaque type de cellule (0: vide, 1: bactérie, 2: globule blanc, 3: nutriments)\n",
    "#la somme des probabilités doit être égale à 1\n",
    "proba = [0.5, 0.1, 0.1, 0.3]\n",
    "\n",
    "#Symbole qui représente chaque valeur de cellule\n",
    "cara = ['-', 'B', 'G', 'n']"
   ]
  },
  {
   "cell_type": "code",
   "execution_count": 41,
   "metadata": {},
   "outputs": [],
   "source": [
    "def matrice(l, h):\n",
    "    \"\"\" int^2 -> int[][]\n",
    "    largeur > 0, hauteur > 0\n",
    "    Renvoie une matrice de 0 de l colonnes et h lignes\"\"\"\n",
    "    \n",
    "    return [[aleatoire() for x in range(l)] for y in range(h)]"
   ]
  },
  {
   "cell_type": "code",
   "execution_count": 42,
   "metadata": {},
   "outputs": [],
   "source": [
    "def aleatoire():\n",
    "    \"\"\"float -> int\n",
    "    Renvoie le type de cellule (0, 1, 2, 3) selon le nombre aléatoire tiré\"\"\"\n",
    "    \n",
    "    alea = np.random.rand()\n",
    "    \n",
    "    for i in range(len(proba)):\n",
    "        p = proba[i]\n",
    "        if alea <= p:\n",
    "            return i\n",
    "        else:\n",
    "            alea -= p\n",
    "            \n",
    "    return -1"
   ]
  },
  {
   "cell_type": "code",
   "execution_count": 43,
   "metadata": {},
   "outputs": [],
   "source": [
    "def printmatrice(M):\n",
    "    \"\"\"int[][] -> NoneType\n",
    "    Affiche la matrice M\"\"\"\n",
    "    for ligne in M:\n",
    "        s = \"\"\n",
    "        for cell in ligne:\n",
    "            s += cara[cell] + ' '\n",
    "        print(s + \"\\n\")"
   ]
  },
  {
   "cell_type": "code",
   "execution_count": 44,
   "metadata": {},
   "outputs": [],
   "source": [
    "def voisinage(M, x, y, infini = False):\n",
    "    \"\"\"int[][] * int * int * bool-> int[]\n",
    "    Renvoie la liste des voisins de la case (x, y).\n",
    "    Si infini est False, on ne prend pas les voisins hors de la matrice\"\"\"\n",
    "    v = []\n",
    "    \n",
    "    ymax = len(M)\n",
    "    xmax = len(M[0])\n",
    "    \n",
    "    for i in [x - 1, x, x + 1]:\n",
    "        if (infini or (0 <= i and i < xmax)):\n",
    "            for j in [y - 1, y, y + 1]:\n",
    "                if (infini or (0 <= j and j < ymax)):\n",
    "                        if (i, j) != (x, y): #Si i, j n'est pas la case centrale\n",
    "                            v.append(M[j][i])\n",
    "    return v"
   ]
  },
  {
   "cell_type": "code",
   "execution_count": 45,
   "metadata": {},
   "outputs": [
    {
     "name": "stdout",
     "output_type": "stream",
     "text": [
      "- - G - - n B - n \n",
      "\n",
      "n n n - - B n n n \n",
      "\n",
      "B - n n - - - - n \n",
      "\n",
      "B - n - n - G n B \n",
      "\n",
      "- n - - - - - - - \n",
      "\n",
      "G - - - n - - - - \n",
      "\n",
      "- - - - B - n - B \n",
      "\n",
      "- - - - - n - n n \n",
      "\n",
      "B - - n n - n - n \n",
      "\n"
     ]
    }
   ],
   "source": [
    "mat = matrice(9,9)\n",
    "printmatrice(mat)"
   ]
  }
 ],
 "metadata": {
  "kernelspec": {
   "display_name": "Python 3",
   "language": "python",
   "name": "python3"
  },
  "language_info": {
   "codemirror_mode": {
    "name": "ipython",
    "version": 3
   },
   "file_extension": ".py",
   "mimetype": "text/x-python",
   "name": "python",
   "nbconvert_exporter": "python",
   "pygments_lexer": "ipython3",
   "version": "3.6.4"
  }
 },
 "nbformat": 4,
 "nbformat_minor": 1
}

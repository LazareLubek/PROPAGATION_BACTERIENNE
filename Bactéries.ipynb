{
 "cells": [
  {
   "cell_type": "markdown",
   "metadata": {},
   "source": [
    "# Modélisation du système bactérie/anticorps"
   ]
  },
  {
   "cell_type": "markdown",
   "metadata": {},
   "source": [
    "Nadir Ait Kheddache, Idriss Alaoui Souliman, Fabien Benthami, Alma Draeger, Alexandre Janin"
   ]
  },
  {
   "cell_type": "code",
   "execution_count": 20,
   "metadata": {},
   "outputs": [],
   "source": [
    "#Imports\n",
    "import numpy as np\n",
    "import ipywidgets as widgets\n",
    "import IPython"
   ]
  },
  {
   "cell_type": "code",
   "execution_count": 103,
   "metadata": {},
   "outputs": [],
   "source": [
    "#Variables globales\n",
    "#probabilité d'avoir chaque type de cellule (0: vide, 1: bactérie, 2: globule blanc, 3: nutriments)\n",
    "#la somme des probabilités doit être égale à 1\n",
    "proba = [0.5, 0.1, 0.1, 0.3]\n",
    "\n",
    "#probabilité qu'une cellule vide se transforme en nutriments\n",
    "proba_apparition_nutriments = 0.1\n",
    "\n",
    "#probabilité qu'un globule blanc dispairaisse à chaque tour\n",
    "proba_apoptose = 0.01\n",
    "\n",
    "#nombres de globules blancs qui apparaissent à chaque tour\n",
    "nb_gb_apparition = 2\n",
    "\n",
    "#nombres de GB nécessaires pour tuer une bactérie\n",
    "nb_gb_necessaires = 2\n",
    "\n",
    "#nombres de GB nécessaires pour qu'un GB apparaisse\n",
    "nb_gb_reproduction = 4\n",
    "\n",
    "#nombres de bactéries voisines à partir duquel la bactérie meurt \n",
    "nb_b_surpop = 5\n",
    "\n",
    "#nombres de bactéries voisines à partir duquel le globule blanc meurt \n",
    "nb_b_necessaires = 5\n",
    "\n",
    "#Symbole qui représente chaque valeur de cellule\n",
    "cara = ['-', 'B', 'G', 'n']"
   ]
  },
  {
   "cell_type": "code",
   "execution_count": 104,
   "metadata": {},
   "outputs": [
    {
     "data": {
      "application/vnd.jupyter.widget-view+json": {
       "model_id": "dfa26f0e5ba34c90bbb91e55d67c0bd9",
       "version_major": 2,
       "version_minor": 0
      },
      "text/html": [
       "<p>Failed to display Jupyter Widget of type <code>Checkbox</code>.</p>\n",
       "<p>\n",
       "  If you're reading this message in the Jupyter Notebook or JupyterLab Notebook, it may mean\n",
       "  that the widgets JavaScript is still loading. If this message persists, it\n",
       "  likely means that the widgets JavaScript library is either not installed or\n",
       "  not enabled. See the <a href=\"https://ipywidgets.readthedocs.io/en/stable/user_install.html\">Jupyter\n",
       "  Widgets Documentation</a> for setup instructions.\n",
       "</p>\n",
       "<p>\n",
       "  If you're reading this message in another frontend (for example, a static\n",
       "  rendering on GitHub or <a href=\"https://nbviewer.jupyter.org/\">NBViewer</a>),\n",
       "  it may mean that your frontend doesn't currently support widgets.\n",
       "</p>\n"
      ],
      "text/plain": [
       "Checkbox(value=False, description='Infini')"
      ]
     },
     "metadata": {},
     "output_type": "display_data"
    }
   ],
   "source": [
    "#Paramètres\n",
    "infiniCheckbox = widgets.Checkbox(value = False, description = \"Infini\", disabled = False)\n",
    "display(infiniCheckbox)"
   ]
  },
  {
   "cell_type": "code",
   "execution_count": 105,
   "metadata": {},
   "outputs": [],
   "source": [
    "def matrice(l, h):\n",
    "    \"\"\" int^2 -> int[][]\n",
    "    largeur > 0, hauteur > 0\n",
    "    Renvoie une matrice de 0 de l colonnes et h lignes\"\"\"\n",
    "    \n",
    "    return [[aleatoire() for x in range(l)] for y in range(h)]"
   ]
  },
  {
   "cell_type": "code",
   "execution_count": 106,
   "metadata": {},
   "outputs": [],
   "source": [
    "def aleatoire():\n",
    "    \"\"\"float -> int\n",
    "    Renvoie le type de cellule (0, 1, 2, 3) selon le nombre aléatoire tiré\"\"\"\n",
    "    \n",
    "    alea = np.random.rand()\n",
    "    \n",
    "    for i in range(len(proba)):\n",
    "        p = proba[i]\n",
    "        if alea <= p:\n",
    "            return i\n",
    "        else:\n",
    "            alea -= p\n",
    "            \n",
    "    return 0"
   ]
  },
  {
   "cell_type": "code",
   "execution_count": 107,
   "metadata": {},
   "outputs": [],
   "source": [
    "def printmatrice(M):\n",
    "    \"\"\"int[][] -> NoneType\n",
    "    Affiche la matrice M\"\"\"\n",
    "    IPython.display.clear_output()\n",
    "    for ligne in M:\n",
    "        s = \"\"\n",
    "        for cell in ligne:\n",
    "            s += cara[cell] + ' '\n",
    "        print(s + \"\\n\")"
   ]
  },
  {
   "cell_type": "code",
   "execution_count": 108,
   "metadata": {},
   "outputs": [],
   "source": [
    "def voisinage(M, x, y):\n",
    "    \"\"\"int[][] * int * int * bool-> int[]\n",
    "    Renvoie la liste des voisins de la case (x, y).\n",
    "    Si infini est False, on ne prend pas les voisins hors de la matrice\"\"\"\n",
    "    v = [0, 0, 0, 0]\n",
    "    \n",
    "    ymax = len(M)\n",
    "    xmax = len(M[0])\n",
    "    \n",
    "    infini = infiniCheckbox.value\n",
    "    \n",
    "    for i in [x - 1, x, x + 1]:\n",
    "        if (0 <= i and i < xmax):\n",
    "            for j in [y - 1, y, y + 1]:\n",
    "                if (0 <= j and j < ymax):\n",
    "                        if (i, j) != (x, y): #Si i, j n'est pas la case centrale\n",
    "                            v[M[j][i]] += 1\n",
    "    return v"
   ]
  },
  {
   "cell_type": "code",
   "execution_count": 109,
   "metadata": {},
   "outputs": [],
   "source": [
    "def next_step_matrice(M):\n",
    "    \"\"\"int[][] -> int [][]\n",
    "    Renvoie la matrice à l'étape suivante.\"\"\"\n",
    "    \n",
    "    nv_M = list(M)\n",
    "    \n",
    "    for y in range(len(M)):\n",
    "        for x in range(len(M[y])):\n",
    "            nv_M[y][x] = next_step_cellule(M[y][x], voisinage(M, x, y))\n",
    "            \n",
    "    return nv_M"
   ]
  },
  {
   "cell_type": "code",
   "execution_count": 110,
   "metadata": {},
   "outputs": [],
   "source": [
    "def next_step_cellule(c, voisins):\n",
    "    \"\"\"int * int[] -> int\n",
    "    Hypothèse: c = 0 ou 1 ou 2 ou 3\n",
    "    Renvoie l'état suivant d'une cellule c en fonction de son état actuel et de ses voisins.\"\"\"\n",
    "    \n",
    "    vides = voisins[0]\n",
    "    bacteries = voisins[1]\n",
    "    globules = voisins[2]\n",
    "    nutriments = voisins[3]\n",
    "    \n",
    "    \n",
    "    if (c == 0): #La cellule est vide\n",
    "        if (globules >= nb_gb_reproduction): #Un nouveau GB est créé\n",
    "            return 2\n",
    "        elif (np.random.rand() <= proba_apparition_nutriments): #Un nutriment apparait\n",
    "            return 3\n",
    "        else: #La cellule reste vide\n",
    "            return 0\n",
    "        \n",
    "    if (c == 1): #Bactérie\n",
    "        if (globules >= nb_gb_necessaires): #Les GB tuent la bactérie\n",
    "            return 0\n",
    "        elif(bacteries >= nb_b_surpop): #La bactérie meurt (surpopulation)\n",
    "            return 0\n",
    "        else: #La bactérie survit\n",
    "            return 1\n",
    "        \n",
    "    if (c == 2): #Globule blanc\n",
    "        if (bacteries >= nb_b_necessaires): #Il y a trop de bactéries, le GB meurt\n",
    "            return 0\n",
    "        elif (np.random.rand() <= proba_apoptose): #Le GB meurt par apoptose\n",
    "            return 0\n",
    "        else: #Le GB survit\n",
    "            return 2\n",
    "        \n",
    "    if (c == 3): #Nutriment\n",
    "        if (bacteries > 0): #La bactérie voisine se multiplie\n",
    "            return 1\n",
    "        else: #La cellule reste un nutriment\n",
    "            return 3\n",
    "        \n",
    "    print(\"Erreur: c invalide:\", c)"
   ]
  },
  {
   "cell_type": "code",
   "execution_count": 111,
   "metadata": {},
   "outputs": [],
   "source": [
    "mat = matrice(16,8)"
   ]
  },
  {
   "cell_type": "code",
   "execution_count": 112,
   "metadata": {},
   "outputs": [],
   "source": [
    "def display_next_step(b):\n",
    "    global mat\n",
    "    global button\n",
    "    global reset_button\n",
    "    \n",
    "    mat = next_step_matrice(mat)\n",
    "    printmatrice(mat)\n",
    "    \n",
    "    display(reset_button)\n",
    "    display(button)"
   ]
  },
  {
   "cell_type": "code",
   "execution_count": 113,
   "metadata": {},
   "outputs": [],
   "source": [
    "def reset(b):\n",
    "    global mat\n",
    "    mat = matrice(16, 8)\n",
    "    printmatrice(mat)\n",
    "    display(reset_button)\n",
    "    display(button)"
   ]
  },
  {
   "cell_type": "code",
   "execution_count": 114,
   "metadata": {},
   "outputs": [
    {
     "name": "stdout",
     "output_type": "stream",
     "text": [
      "B B B B B B B B B B B B B B B B \n",
      "\n",
      "- - - - - - - - - B - - - - B B \n",
      "\n",
      "B - B B B B B B B - B B B B - B \n",
      "\n",
      "B - B - - - B n B B - B - B - B \n",
      "\n",
      "B - - - B B - - - n - B n B B B \n",
      "\n",
      "B B B B - B B B B B - B - B - B \n",
      "\n",
      "- - - - - - - - B - n B - - - B \n",
      "\n",
      "B B B B B B B B B B B B B B B B \n",
      "\n"
     ]
    },
    {
     "data": {
      "application/vnd.jupyter.widget-view+json": {
       "model_id": "b23457dd9a584811b904eeca0af4c4ec",
       "version_major": 2,
       "version_minor": 0
      },
      "text/html": [
       "<p>Failed to display Jupyter Widget of type <code>Button</code>.</p>\n",
       "<p>\n",
       "  If you're reading this message in the Jupyter Notebook or JupyterLab Notebook, it may mean\n",
       "  that the widgets JavaScript is still loading. If this message persists, it\n",
       "  likely means that the widgets JavaScript library is either not installed or\n",
       "  not enabled. See the <a href=\"https://ipywidgets.readthedocs.io/en/stable/user_install.html\">Jupyter\n",
       "  Widgets Documentation</a> for setup instructions.\n",
       "</p>\n",
       "<p>\n",
       "  If you're reading this message in another frontend (for example, a static\n",
       "  rendering on GitHub or <a href=\"https://nbviewer.jupyter.org/\">NBViewer</a>),\n",
       "  it may mean that your frontend doesn't currently support widgets.\n",
       "</p>\n"
      ],
      "text/plain": [
       "Button(button_style='info', description='Reset', icon='check', style=ButtonStyle(), tooltip='Click me!')"
      ]
     },
     "metadata": {},
     "output_type": "display_data"
    },
    {
     "data": {
      "application/vnd.jupyter.widget-view+json": {
       "model_id": "6664e4ac0c504c27bdf77e4518c1ec3d",
       "version_major": 2,
       "version_minor": 0
      },
      "text/html": [
       "<p>Failed to display Jupyter Widget of type <code>Button</code>.</p>\n",
       "<p>\n",
       "  If you're reading this message in the Jupyter Notebook or JupyterLab Notebook, it may mean\n",
       "  that the widgets JavaScript is still loading. If this message persists, it\n",
       "  likely means that the widgets JavaScript library is either not installed or\n",
       "  not enabled. See the <a href=\"https://ipywidgets.readthedocs.io/en/stable/user_install.html\">Jupyter\n",
       "  Widgets Documentation</a> for setup instructions.\n",
       "</p>\n",
       "<p>\n",
       "  If you're reading this message in another frontend (for example, a static\n",
       "  rendering on GitHub or <a href=\"https://nbviewer.jupyter.org/\">NBViewer</a>),\n",
       "  it may mean that your frontend doesn't currently support widgets.\n",
       "</p>\n"
      ],
      "text/plain": [
       "Button(button_style='info', description='Next Step', icon='check', style=ButtonStyle(), tooltip='Click me!')"
      ]
     },
     "metadata": {},
     "output_type": "display_data"
    }
   ],
   "source": [
    "reset_button = widgets.Button(\n",
    "    description='Reset',\n",
    "    disabled=False,\n",
    "    button_style='info', # 'success', 'info', 'warning', 'danger' or ''\n",
    "    tooltip='Click me!',\n",
    "    icon='check'\n",
    ")\n",
    "\n",
    "button = widgets.Button(\n",
    "    description='Next Step',\n",
    "    disabled=False,\n",
    "    button_style='info', # 'success', 'info', 'warning', 'danger' or ''\n",
    "    tooltip='Click me!',\n",
    "    icon='check'\n",
    ")\n",
    "\n",
    "button.on_click(display_next_step)\n",
    "reset_button.on_click(reset)\n",
    "\n",
    "display(reset_button)\n",
    "display(button)"
   ]
  },
  {
   "cell_type": "code",
   "execution_count": 69,
   "metadata": {},
   "outputs": [],
   "source": [
    "def simulation(l, h, steps):\n",
    "    \"\"\"int -> NoneType\n",
    "    Simule steps étapes et affiche le résultat final\"\"\""
   ]
  },
  {
   "cell_type": "code",
   "execution_count": null,
   "metadata": {},
   "outputs": [],
   "source": []
  }
 ],
 "metadata": {
  "kernelspec": {
   "display_name": "Python 3",
   "language": "python",
   "name": "python3"
  },
  "language_info": {
   "codemirror_mode": {
    "name": "ipython",
    "version": 3
   },
   "file_extension": ".py",
   "mimetype": "text/x-python",
   "name": "python",
   "nbconvert_exporter": "python",
   "pygments_lexer": "ipython3",
   "version": "3.6.4"
  }
 },
 "nbformat": 4,
 "nbformat_minor": 1
}
